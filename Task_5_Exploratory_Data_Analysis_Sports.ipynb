{
 "cells": [
  {
   "cell_type": "markdown",
   "metadata": {
    "id": "ndWporBlpEnN"
   },
   "source": [
    "#**The Sparks Foundation - GRIP July 2021**"
   ]
  },
  {
   "cell_type": "markdown",
   "metadata": {
    "id": "pzv-8DygpOGq"
   },
   "source": [
    "##**Task 5**: Exploratory Data Analysis - Sports\n",
    "\n",
    "####**Level**: Advanced"
   ]
  },
  {
   "cell_type": "markdown",
   "metadata": {
    "id": "GmW35fIPpswh"
   },
   "source": [
    "##**Author**: [**Vaibhav Shah**](https://www.linkedin.com/in/vaibhav-shah-704104212/)"
   ]
  },
  {
   "cell_type": "markdown",
   "metadata": {
    "id": "MwJU34ujqMR-"
   },
   "source": [
    "###**Problem Statement**\n",
    "\n",
    "• Perform ‘Exploratory Data Analysis’ on dataset ‘Indian Premier League’\n",
    "\n",
    "• As a sports analysts, find out the most successful teams, players and factors\n",
    "contributing win or loss of a team.\n",
    "\n",
    "• Suggest teams or players a company should endorse for its products."
   ]
  },
  {
   "cell_type": "markdown",
   "metadata": {
    "id": "FGmPJ8ijY-uc"
   },
   "source": [
    "###**Work Flow**\n",
    "\n",
    "1) Data collection\n",
    "\n",
    "2) Data Pre-processing\n",
    "\n",
    "3) Exploratory Data analysis"
   ]
  },
  {
   "cell_type": "markdown",
   "metadata": {
    "id": "oK2SBkDheipI"
   },
   "source": [
    "**Importing the libraries**"
   ]
  },
  {
   "cell_type": "code",
   "execution_count": 1,
   "metadata": {
    "id": "d6-y8K5ZeipJ"
   },
   "outputs": [],
   "source": [
    "import pandas as pd\n",
    "import numpy as np\n",
    "import seaborn as sns\n",
    "import matplotlib.pyplot as plt"
   ]
  },
  {
   "cell_type": "markdown",
   "metadata": {
    "id": "ys2_GSXueipK"
   },
   "source": [
    "**Data Collection**"
   ]
  },
  {
   "cell_type": "code",
   "execution_count": 2,
   "metadata": {
    "colab": {
     "base_uri": "https://localhost:8080/",
     "height": 442
    },
    "id": "_gh4WxnBeipK",
    "outputId": "3e0672d9-e1a7-4fba-ed41-8291d334bbee"
   },
   "outputs": [
    {
     "data": {
      "text/html": [
       "<div>\n",
       "<style scoped>\n",
       "    .dataframe tbody tr th:only-of-type {\n",
       "        vertical-align: middle;\n",
       "    }\n",
       "\n",
       "    .dataframe tbody tr th {\n",
       "        vertical-align: top;\n",
       "    }\n",
       "\n",
       "    .dataframe thead th {\n",
       "        text-align: right;\n",
       "    }\n",
       "</style>\n",
       "<table border=\"1\" class=\"dataframe\">\n",
       "  <thead>\n",
       "    <tr style=\"text-align: right;\">\n",
       "      <th></th>\n",
       "      <th>id</th>\n",
       "      <th>season</th>\n",
       "      <th>city</th>\n",
       "      <th>date</th>\n",
       "      <th>team1</th>\n",
       "      <th>team2</th>\n",
       "      <th>toss_winner</th>\n",
       "      <th>toss_decision</th>\n",
       "      <th>result</th>\n",
       "      <th>dl_applied</th>\n",
       "      <th>winner</th>\n",
       "      <th>win_by_runs</th>\n",
       "      <th>win_by_wickets</th>\n",
       "      <th>player_of_match</th>\n",
       "      <th>venue</th>\n",
       "      <th>umpire1</th>\n",
       "      <th>umpire2</th>\n",
       "      <th>umpire3</th>\n",
       "    </tr>\n",
       "  </thead>\n",
       "  <tbody>\n",
       "    <tr>\n",
       "      <th>0</th>\n",
       "      <td>1</td>\n",
       "      <td>2017</td>\n",
       "      <td>Hyderabad</td>\n",
       "      <td>2017-04-05</td>\n",
       "      <td>Sunrisers Hyderabad</td>\n",
       "      <td>Royal Challengers Bangalore</td>\n",
       "      <td>Royal Challengers Bangalore</td>\n",
       "      <td>field</td>\n",
       "      <td>normal</td>\n",
       "      <td>0</td>\n",
       "      <td>Sunrisers Hyderabad</td>\n",
       "      <td>35</td>\n",
       "      <td>0</td>\n",
       "      <td>Yuvraj Singh</td>\n",
       "      <td>Rajiv Gandhi International Stadium, Uppal</td>\n",
       "      <td>AY Dandekar</td>\n",
       "      <td>NJ Llong</td>\n",
       "      <td>NaN</td>\n",
       "    </tr>\n",
       "    <tr>\n",
       "      <th>1</th>\n",
       "      <td>2</td>\n",
       "      <td>2017</td>\n",
       "      <td>Pune</td>\n",
       "      <td>2017-04-06</td>\n",
       "      <td>Mumbai Indians</td>\n",
       "      <td>Rising Pune Supergiant</td>\n",
       "      <td>Rising Pune Supergiant</td>\n",
       "      <td>field</td>\n",
       "      <td>normal</td>\n",
       "      <td>0</td>\n",
       "      <td>Rising Pune Supergiant</td>\n",
       "      <td>0</td>\n",
       "      <td>7</td>\n",
       "      <td>SPD Smith</td>\n",
       "      <td>Maharashtra Cricket Association Stadium</td>\n",
       "      <td>A Nand Kishore</td>\n",
       "      <td>S Ravi</td>\n",
       "      <td>NaN</td>\n",
       "    </tr>\n",
       "    <tr>\n",
       "      <th>2</th>\n",
       "      <td>3</td>\n",
       "      <td>2017</td>\n",
       "      <td>Rajkot</td>\n",
       "      <td>2017-04-07</td>\n",
       "      <td>Gujarat Lions</td>\n",
       "      <td>Kolkata Knight Riders</td>\n",
       "      <td>Kolkata Knight Riders</td>\n",
       "      <td>field</td>\n",
       "      <td>normal</td>\n",
       "      <td>0</td>\n",
       "      <td>Kolkata Knight Riders</td>\n",
       "      <td>0</td>\n",
       "      <td>10</td>\n",
       "      <td>CA Lynn</td>\n",
       "      <td>Saurashtra Cricket Association Stadium</td>\n",
       "      <td>Nitin Menon</td>\n",
       "      <td>CK Nandan</td>\n",
       "      <td>NaN</td>\n",
       "    </tr>\n",
       "    <tr>\n",
       "      <th>3</th>\n",
       "      <td>4</td>\n",
       "      <td>2017</td>\n",
       "      <td>Indore</td>\n",
       "      <td>2017-04-08</td>\n",
       "      <td>Rising Pune Supergiant</td>\n",
       "      <td>Kings XI Punjab</td>\n",
       "      <td>Kings XI Punjab</td>\n",
       "      <td>field</td>\n",
       "      <td>normal</td>\n",
       "      <td>0</td>\n",
       "      <td>Kings XI Punjab</td>\n",
       "      <td>0</td>\n",
       "      <td>6</td>\n",
       "      <td>GJ Maxwell</td>\n",
       "      <td>Holkar Cricket Stadium</td>\n",
       "      <td>AK Chaudhary</td>\n",
       "      <td>C Shamshuddin</td>\n",
       "      <td>NaN</td>\n",
       "    </tr>\n",
       "    <tr>\n",
       "      <th>4</th>\n",
       "      <td>5</td>\n",
       "      <td>2017</td>\n",
       "      <td>Bangalore</td>\n",
       "      <td>2017-04-08</td>\n",
       "      <td>Royal Challengers Bangalore</td>\n",
       "      <td>Delhi Daredevils</td>\n",
       "      <td>Royal Challengers Bangalore</td>\n",
       "      <td>bat</td>\n",
       "      <td>normal</td>\n",
       "      <td>0</td>\n",
       "      <td>Royal Challengers Bangalore</td>\n",
       "      <td>15</td>\n",
       "      <td>0</td>\n",
       "      <td>KM Jadhav</td>\n",
       "      <td>M Chinnaswamy Stadium</td>\n",
       "      <td>NaN</td>\n",
       "      <td>NaN</td>\n",
       "      <td>NaN</td>\n",
       "    </tr>\n",
       "  </tbody>\n",
       "</table>\n",
       "</div>"
      ],
      "text/plain": [
       "   id  season       city  ...         umpire1        umpire2 umpire3\n",
       "0   1    2017  Hyderabad  ...     AY Dandekar       NJ Llong     NaN\n",
       "1   2    2017       Pune  ...  A Nand Kishore         S Ravi     NaN\n",
       "2   3    2017     Rajkot  ...     Nitin Menon      CK Nandan     NaN\n",
       "3   4    2017     Indore  ...    AK Chaudhary  C Shamshuddin     NaN\n",
       "4   5    2017  Bangalore  ...             NaN            NaN     NaN\n",
       "\n",
       "[5 rows x 18 columns]"
      ]
     },
     "execution_count": 2,
     "metadata": {
      "tags": []
     },
     "output_type": "execute_result"
    }
   ],
   "source": [
    "df = pd.read_csv('matches.csv')\n",
    "df.head()"
   ]
  },
  {
   "cell_type": "code",
   "execution_count": 3,
   "metadata": {
    "colab": {
     "base_uri": "https://localhost:8080/"
    },
    "id": "lraVsU92eipL",
    "outputId": "b5b209fb-7352-4d8b-9a4d-9c110006e194"
   },
   "outputs": [
    {
     "data": {
      "text/plain": [
       "(756, 18)"
      ]
     },
     "execution_count": 3,
     "metadata": {
      "tags": []
     },
     "output_type": "execute_result"
    }
   ],
   "source": [
    "df.shape"
   ]
  },
  {
   "cell_type": "markdown",
   "metadata": {
    "id": "zV4Fi8tSeipM"
   },
   "source": [
    "**Data Cleaning**"
   ]
  },
  {
   "cell_type": "code",
   "execution_count": 4,
   "metadata": {
    "colab": {
     "base_uri": "https://localhost:8080/"
    },
    "id": "xuM5bvFzeipM",
    "outputId": "9d73a6a0-c670-4d46-a5bc-2073c0e034a5"
   },
   "outputs": [
    {
     "data": {
      "text/plain": [
       "id                   0\n",
       "season               0\n",
       "city                 7\n",
       "date                 0\n",
       "team1                0\n",
       "team2                0\n",
       "toss_winner          0\n",
       "toss_decision        0\n",
       "result               0\n",
       "dl_applied           0\n",
       "winner               4\n",
       "win_by_runs          0\n",
       "win_by_wickets       0\n",
       "player_of_match      4\n",
       "venue                0\n",
       "umpire1              2\n",
       "umpire2              2\n",
       "umpire3            637\n",
       "dtype: int64"
      ]
     },
     "execution_count": 4,
     "metadata": {
      "tags": []
     },
     "output_type": "execute_result"
    }
   ],
   "source": [
    "# Checking the number of missing values present\n",
    "df.isnull().sum() "
   ]
  },
  {
   "cell_type": "code",
   "execution_count": 5,
   "metadata": {
    "colab": {
     "base_uri": "https://localhost:8080/"
    },
    "id": "O7SW3n_XeipN",
    "outputId": "c4fa279e-d3f8-408e-ce3c-fe128ae34717"
   },
   "outputs": [
    {
     "data": {
      "text/plain": [
       "(743, 18)"
      ]
     },
     "execution_count": 5,
     "metadata": {
      "tags": []
     },
     "output_type": "execute_result"
    }
   ],
   "source": [
    "# Dropping missing values from columns where the count is negligible\n",
    "\n",
    "df = df.dropna(subset=['city', 'winner', 'player_of_match','umpire1','umpire2'])\n",
    "df.shape"
   ]
  },
  {
   "cell_type": "code",
   "execution_count": 6,
   "metadata": {
    "id": "wDZeuhYVeipO"
   },
   "outputs": [],
   "source": [
    "# Replacing the mssing values of umpire3 by 'Unknown'\n",
    "\n",
    "df['umpire3'] = df['umpire3'].replace(np.nan, 'Unknown')\n"
   ]
  },
  {
   "cell_type": "code",
   "execution_count": 7,
   "metadata": {
    "colab": {
     "base_uri": "https://localhost:8080/"
    },
    "id": "zY76UN_yeipO",
    "outputId": "fa0eb9e7-8892-4467-e4cd-39761587e5ac"
   },
   "outputs": [
    {
     "data": {
      "text/plain": [
       "id                          int64\n",
       "season                      int64\n",
       "city                       object\n",
       "date               datetime64[ns]\n",
       "team1                      object\n",
       "team2                      object\n",
       "toss_winner                object\n",
       "toss_decision              object\n",
       "result                     object\n",
       "dl_applied                  int64\n",
       "winner                     object\n",
       "win_by_runs                 int64\n",
       "win_by_wickets              int64\n",
       "player_of_match            object\n",
       "venue                      object\n",
       "umpire1                    object\n",
       "umpire2                    object\n",
       "umpire3                    object\n",
       "dtype: object"
      ]
     },
     "execution_count": 7,
     "metadata": {
      "tags": []
     },
     "output_type": "execute_result"
    }
   ],
   "source": [
    "df['date'] = pd.to_datetime(df['date'])\n",
    "df.dtypes"
   ]
  },
  {
   "cell_type": "code",
   "execution_count": 8,
   "metadata": {
    "colab": {
     "base_uri": "https://localhost:8080/",
     "height": 492
    },
    "id": "W4WsvWLGeipO",
    "outputId": "6f1aac3f-8ea6-4a91-aafe-f0783c951d7d",
    "scrolled": true
   },
   "outputs": [
    {
     "data": {
      "text/html": [
       "<div>\n",
       "<style scoped>\n",
       "    .dataframe tbody tr th:only-of-type {\n",
       "        vertical-align: middle;\n",
       "    }\n",
       "\n",
       "    .dataframe tbody tr th {\n",
       "        vertical-align: top;\n",
       "    }\n",
       "\n",
       "    .dataframe thead th {\n",
       "        text-align: right;\n",
       "    }\n",
       "</style>\n",
       "<table border=\"1\" class=\"dataframe\">\n",
       "  <thead>\n",
       "    <tr style=\"text-align: right;\">\n",
       "      <th></th>\n",
       "      <th>id</th>\n",
       "      <th>season</th>\n",
       "      <th>city</th>\n",
       "      <th>date</th>\n",
       "      <th>team1</th>\n",
       "      <th>team2</th>\n",
       "      <th>toss_winner</th>\n",
       "      <th>toss_decision</th>\n",
       "      <th>result</th>\n",
       "      <th>dl_applied</th>\n",
       "      <th>winner</th>\n",
       "      <th>win_by_runs</th>\n",
       "      <th>win_by_wickets</th>\n",
       "      <th>player_of_match</th>\n",
       "      <th>venue</th>\n",
       "      <th>umpire1</th>\n",
       "      <th>umpire2</th>\n",
       "      <th>umpire3</th>\n",
       "      <th>Year</th>\n",
       "      <th>Month</th>\n",
       "    </tr>\n",
       "  </thead>\n",
       "  <tbody>\n",
       "    <tr>\n",
       "      <th>0</th>\n",
       "      <td>1</td>\n",
       "      <td>2017</td>\n",
       "      <td>Hyderabad</td>\n",
       "      <td>2017-04-05</td>\n",
       "      <td>Sunrisers Hyderabad</td>\n",
       "      <td>Royal Challengers Bangalore</td>\n",
       "      <td>Royal Challengers Bangalore</td>\n",
       "      <td>field</td>\n",
       "      <td>normal</td>\n",
       "      <td>0</td>\n",
       "      <td>Sunrisers Hyderabad</td>\n",
       "      <td>35</td>\n",
       "      <td>0</td>\n",
       "      <td>Yuvraj Singh</td>\n",
       "      <td>Rajiv Gandhi International Stadium, Uppal</td>\n",
       "      <td>AY Dandekar</td>\n",
       "      <td>NJ Llong</td>\n",
       "      <td>Unknown</td>\n",
       "      <td>2017</td>\n",
       "      <td>4</td>\n",
       "    </tr>\n",
       "    <tr>\n",
       "      <th>1</th>\n",
       "      <td>2</td>\n",
       "      <td>2017</td>\n",
       "      <td>Pune</td>\n",
       "      <td>2017-04-06</td>\n",
       "      <td>Mumbai Indians</td>\n",
       "      <td>Rising Pune Supergiant</td>\n",
       "      <td>Rising Pune Supergiant</td>\n",
       "      <td>field</td>\n",
       "      <td>normal</td>\n",
       "      <td>0</td>\n",
       "      <td>Rising Pune Supergiant</td>\n",
       "      <td>0</td>\n",
       "      <td>7</td>\n",
       "      <td>SPD Smith</td>\n",
       "      <td>Maharashtra Cricket Association Stadium</td>\n",
       "      <td>A Nand Kishore</td>\n",
       "      <td>S Ravi</td>\n",
       "      <td>Unknown</td>\n",
       "      <td>2017</td>\n",
       "      <td>4</td>\n",
       "    </tr>\n",
       "    <tr>\n",
       "      <th>2</th>\n",
       "      <td>3</td>\n",
       "      <td>2017</td>\n",
       "      <td>Rajkot</td>\n",
       "      <td>2017-04-07</td>\n",
       "      <td>Gujarat Lions</td>\n",
       "      <td>Kolkata Knight Riders</td>\n",
       "      <td>Kolkata Knight Riders</td>\n",
       "      <td>field</td>\n",
       "      <td>normal</td>\n",
       "      <td>0</td>\n",
       "      <td>Kolkata Knight Riders</td>\n",
       "      <td>0</td>\n",
       "      <td>10</td>\n",
       "      <td>CA Lynn</td>\n",
       "      <td>Saurashtra Cricket Association Stadium</td>\n",
       "      <td>Nitin Menon</td>\n",
       "      <td>CK Nandan</td>\n",
       "      <td>Unknown</td>\n",
       "      <td>2017</td>\n",
       "      <td>4</td>\n",
       "    </tr>\n",
       "    <tr>\n",
       "      <th>3</th>\n",
       "      <td>4</td>\n",
       "      <td>2017</td>\n",
       "      <td>Indore</td>\n",
       "      <td>2017-04-08</td>\n",
       "      <td>Rising Pune Supergiant</td>\n",
       "      <td>Kings XI Punjab</td>\n",
       "      <td>Kings XI Punjab</td>\n",
       "      <td>field</td>\n",
       "      <td>normal</td>\n",
       "      <td>0</td>\n",
       "      <td>Kings XI Punjab</td>\n",
       "      <td>0</td>\n",
       "      <td>6</td>\n",
       "      <td>GJ Maxwell</td>\n",
       "      <td>Holkar Cricket Stadium</td>\n",
       "      <td>AK Chaudhary</td>\n",
       "      <td>C Shamshuddin</td>\n",
       "      <td>Unknown</td>\n",
       "      <td>2017</td>\n",
       "      <td>4</td>\n",
       "    </tr>\n",
       "    <tr>\n",
       "      <th>5</th>\n",
       "      <td>6</td>\n",
       "      <td>2017</td>\n",
       "      <td>Hyderabad</td>\n",
       "      <td>2017-04-09</td>\n",
       "      <td>Gujarat Lions</td>\n",
       "      <td>Sunrisers Hyderabad</td>\n",
       "      <td>Sunrisers Hyderabad</td>\n",
       "      <td>field</td>\n",
       "      <td>normal</td>\n",
       "      <td>0</td>\n",
       "      <td>Sunrisers Hyderabad</td>\n",
       "      <td>0</td>\n",
       "      <td>9</td>\n",
       "      <td>Rashid Khan</td>\n",
       "      <td>Rajiv Gandhi International Stadium, Uppal</td>\n",
       "      <td>A Deshmukh</td>\n",
       "      <td>NJ Llong</td>\n",
       "      <td>Unknown</td>\n",
       "      <td>2017</td>\n",
       "      <td>4</td>\n",
       "    </tr>\n",
       "  </tbody>\n",
       "</table>\n",
       "</div>"
      ],
      "text/plain": [
       "   id  season       city       date  ...        umpire2  umpire3  Year Month\n",
       "0   1    2017  Hyderabad 2017-04-05  ...       NJ Llong  Unknown  2017     4\n",
       "1   2    2017       Pune 2017-04-06  ...         S Ravi  Unknown  2017     4\n",
       "2   3    2017     Rajkot 2017-04-07  ...      CK Nandan  Unknown  2017     4\n",
       "3   4    2017     Indore 2017-04-08  ...  C Shamshuddin  Unknown  2017     4\n",
       "5   6    2017  Hyderabad 2017-04-09  ...       NJ Llong  Unknown  2017     4\n",
       "\n",
       "[5 rows x 20 columns]"
      ]
     },
     "execution_count": 8,
     "metadata": {
      "tags": []
     },
     "output_type": "execute_result"
    }
   ],
   "source": [
    "# Adding a few more columns to our dataset which we might use in the future \n",
    "\n",
    "df['Year'] = df['date'].dt.year\n",
    "df['Month'] = df['date'].dt.month\n",
    "\n",
    "df.head()"
   ]
  },
  {
   "cell_type": "code",
   "execution_count": 9,
   "metadata": {
    "id": "wjicovNFeipP"
   },
   "outputs": [],
   "source": [
    "df.insert(loc=20, column='Day', value=(df.date.dt.dayofweek)+1)\n"
   ]
  },
  {
   "cell_type": "code",
   "execution_count": 10,
   "metadata": {
    "colab": {
     "base_uri": "https://localhost:8080/"
    },
    "id": "DDi2oWxSeipP",
    "outputId": "1ffc78ec-5786-430a-ca68-512104fbaf60"
   },
   "outputs": [
    {
     "data": {
      "text/plain": [
       "Mumbai Indians                 109\n",
       "Chennai Super Kings             98\n",
       "Kolkata Knight Riders           92\n",
       "Royal Challengers Bangalore     82\n",
       "Kings XI Punjab                 81\n",
       "Rajasthan Royals                75\n",
       "Delhi Daredevils                66\n",
       "Sunrisers Hyderabad             56\n",
       "Deccan Chargers                 29\n",
       "Gujarat Lions                   13\n",
       "Pune Warriors                   12\n",
       "Rising Pune Supergiant          10\n",
       "Delhi Capitals                   9\n",
       "Kochi Tuskers Kerala             6\n",
       "Rising Pune Supergiants          5\n",
       "Name: winner, dtype: int64"
      ]
     },
     "execution_count": 10,
     "metadata": {
      "tags": []
     },
     "output_type": "execute_result"
    }
   ],
   "source": [
    "df['winner'].sort_values().value_counts()"
   ]
  },
  {
   "cell_type": "markdown",
   "metadata": {
    "id": "hWrC3K-reipQ"
   },
   "source": [
    "From above we can see that 'Rising Pune Supergiant' is repeated as 'Rising Pune Supergiants', so we will replace the values"
   ]
  },
  {
   "cell_type": "code",
   "execution_count": 11,
   "metadata": {
    "id": "q_S9WyaxeipQ"
   },
   "outputs": [],
   "source": [
    "df.loc[df['winner'] == 'Rising Pune Supergiants', 'winner'] = 'Rising Pune Supergiant'\n",
    "#But we have to replace in other series as well like 'team1', 'team2',etc.\n",
    "df[['team1','team2','toss_winner','winner']] = df[['team1','team2','toss_winner','winner']].apply(lambda val : val.str.replace('Rising Pune Supergiants','Rising Pune Supergiant') )"
   ]
  },
  {
   "cell_type": "markdown",
   "metadata": {
    "id": "wJpa8NFAPXhZ"
   },
   "source": [
    "**Exploratory Data Analysis**"
   ]
  },
  {
   "cell_type": "code",
   "execution_count": 12,
   "metadata": {
    "colab": {
     "base_uri": "https://localhost:8080/"
    },
    "id": "zjo3F1xAeipR",
    "outputId": "1bd114f9-ed25-4148-9e91-e8df99d15842"
   },
   "outputs": [
    {
     "name": "stdout",
     "output_type": "stream",
     "text": [
      "12\n",
      "[2017 2008 2009 2010 2011 2012 2013 2014 2015 2016 2018 2019]\n"
     ]
    }
   ],
   "source": [
    "print(len(df['season'].unique()))\n",
    "print(df['season'].unique())"
   ]
  },
  {
   "cell_type": "markdown",
   "metadata": {
    "id": "vFRGbrZoeipR"
   },
   "source": [
    "The dataset carries data of 12 years from 2008 to 2019 "
   ]
  },
  {
   "cell_type": "markdown",
   "metadata": {
    "id": "ZR_VclFFeipR"
   },
   "source": [
    "**Analysis based on cities**"
   ]
  },
  {
   "cell_type": "code",
   "execution_count": 13,
   "metadata": {
    "colab": {
     "base_uri": "https://localhost:8080/"
    },
    "id": "r9kxQgtgeipS",
    "outputId": "cc3f4503-5143-495e-9c0c-f55fd6c7099c"
   },
   "outputs": [
    {
     "data": {
      "text/plain": [
       "Mumbai            101\n",
       "Kolkata            77\n",
       "Delhi              73\n",
       "Hyderabad          64\n",
       "Bangalore          63\n",
       "Chennai            57\n",
       "Jaipur             47\n",
       "Chandigarh         46\n",
       "Pune               38\n",
       "Durban             15\n",
       "Bengaluru          13\n",
       "Centurion          12\n",
       "Visakhapatnam      12\n",
       "Ahmedabad          12\n",
       "Rajkot             10\n",
       "Mohali             10\n",
       "Indore              9\n",
       "Dharamsala          9\n",
       "Johannesburg        8\n",
       "Ranchi              7\n",
       "Port Elizabeth      7\n",
       "Abu Dhabi           7\n",
       "Cape Town           7\n",
       "Cuttack             7\n",
       "Raipur              6\n",
       "Sharjah             6\n",
       "Kochi               5\n",
       "Kanpur              4\n",
       "Nagpur              3\n",
       "East London         3\n",
       "Kimberley           3\n",
       "Bloemfontein        2\n",
       "Name: city, dtype: int64"
      ]
     },
     "execution_count": 13,
     "metadata": {
      "tags": []
     },
     "output_type": "execute_result"
    }
   ],
   "source": [
    "city_host = df['city'].value_counts()\n",
    "city_host"
   ]
  },
  {
   "cell_type": "code",
   "execution_count": 14,
   "metadata": {
    "colab": {
     "base_uri": "https://localhost:8080/",
     "height": 512
    },
    "id": "azTV5aCOeipS",
    "outputId": "5d62dd30-4ab6-4ee3-e0e7-fbe2d9e7aa4a"
   },
   "outputs": [
    {
     "name": "stderr",
     "output_type": "stream",
     "text": [
      "/usr/local/lib/python3.7/dist-packages/seaborn/_decorators.py:43: FutureWarning: Pass the following variables as keyword args: x, y. From version 0.12, the only valid positional argument will be `data`, and passing other arguments without an explicit keyword will result in an error or misinterpretation.\n",
      "  FutureWarning\n"
     ]
    },
    {
     "data": {
      "image/png": "[encoded data removed]",
      "text/plain": [
       "<Figure size 720x432 with 1 Axes>"
      ]
     },
     "metadata": {
      "needs_background": "light",
      "tags": []
     },
     "output_type": "display_data"
    }
   ],
   "source": [
    "plt.figure(figsize=(10,6))\n",
    "plt.xticks(rotation=90)\n",
    "plt.title('Number of matches hosted')\n",
    "count=0\n",
    "cities=pd.DataFrame(city_host)\n",
    "cities['name']=city_host.index\n",
    "for i in cities['city']:\n",
    "    plt.text(count-0.4,i+1,str(i),color='black')\n",
    "    count+=1\n",
    "sns.barplot(city_host.index, city_host, palette='Pastel1');"
   ]
  },
  {
   "cell_type": "markdown",
   "metadata": {
    "id": "pXEEmG_ceipT"
   },
   "source": [
    "So, we can see in the barplot that Mumbai has hosted the maximum number of IPL matches followed by Kolkata and Delhi.\n",
    "\n"
   ]
  },
  {
   "cell_type": "markdown",
   "metadata": {
    "id": "Y_absEV-eipT"
   },
   "source": [
    "**Analysis based on Teams**"
   ]
  },
  {
   "cell_type": "code",
   "execution_count": 15,
   "metadata": {
    "colab": {
     "base_uri": "https://localhost:8080/",
     "height": 405
    },
    "id": "1m7fD_dLeipT",
    "outputId": "f698095e-69da-4ef7-d99e-b5afb2d5b32d"
   },
   "outputs": [
    {
     "data": {
      "text/plain": [
       "<matplotlib.axes._subplots.AxesSubplot at 0x7fc788843250>"
      ]
     },
     "execution_count": 15,
     "metadata": {
      "tags": []
     },
     "output_type": "execute_result"
    },
    {
     "data": {
      "image/png": "[encoded data removed]",
      "text/plain": [
       "<Figure size 720x432 with 1 Axes>"
      ]
     },
     "metadata": {
      "needs_background": "light",
      "tags": []
     },
     "output_type": "display_data"
    }
   ],
   "source": [
    "# Most successful team of ipl\n",
    "plt.figure(figsize=(10,6))\n",
    "data = df['winner'].value_counts()\n",
    "sns.barplot(y = data.index, x = data, palette='Pastel1' )"
   ]
  },
  {
   "cell_type": "markdown",
   "metadata": {
    "id": "6k2UBFAJeipU"
   },
   "source": [
    "From the above result, clearly, Mumbai Indians is the most successful team of ipl"
   ]
  },
  {
   "cell_type": "code",
   "execution_count": 16,
   "metadata": {
    "colab": {
     "base_uri": "https://localhost:8080/"
    },
    "id": "sfrHlKJ2eipU",
    "outputId": "95800bf4-0ec1-4b7b-c240-dd613daafe3a"
   },
   "outputs": [
    {
     "data": {
      "text/plain": [
       "winner                 city     \n",
       "Mumbai Indians         Mumbai       53\n",
       "Kolkata Knight Riders  Kolkata      45\n",
       "Chennai Super Kings    Chennai      40\n",
       "Rajasthan Royals       Jaipur       32\n",
       "Sunrisers Hyderabad    Hyderabad    30\n",
       "Name: city, dtype: int64"
      ]
     },
     "execution_count": 16,
     "metadata": {
      "tags": []
     },
     "output_type": "execute_result"
    }
   ],
   "source": [
    "# Top 5 teams \n",
    "\n",
    "most_wins = df.groupby(by = ['winner'] )['city'].value_counts()\n",
    "most_wins.sort_values(ascending = False).head()"
   ]
  },
  {
   "cell_type": "markdown",
   "metadata": {
    "id": "zXO_ni3eeipU"
   },
   "source": [
    "As we can see Mumbai Indians has secured the most wins in the past 12 years. "
   ]
  },
  {
   "cell_type": "code",
   "execution_count": 17,
   "metadata": {
    "colab": {
     "base_uri": "https://localhost:8080/"
    },
    "id": "cXmj0FELeipV",
    "outputId": "85c27f2f-c1b8-4817-c03f-65d986f04f31"
   },
   "outputs": [
    {
     "data": {
      "text/plain": [
       "Mumbai Indians                 109\n",
       "Chennai Super Kings             98\n",
       "Kolkata Knight Riders           92\n",
       "Royal Challengers Bangalore     82\n",
       "Kings XI Punjab                 81\n",
       "Rajasthan Royals                75\n",
       "Delhi Daredevils                66\n",
       "Sunrisers Hyderabad             56\n",
       "Deccan Chargers                 29\n",
       "Rising Pune Supergiant          15\n",
       "Gujarat Lions                   13\n",
       "Pune Warriors                   12\n",
       "Delhi Capitals                   9\n",
       "Kochi Tuskers Kerala             6\n",
       "Name: winner, dtype: int64"
      ]
     },
     "execution_count": 17,
     "metadata": {
      "tags": []
     },
     "output_type": "execute_result"
    }
   ],
   "source": [
    "df['winner'].value_counts()"
   ]
  },
  {
   "cell_type": "code",
   "execution_count": 18,
   "metadata": {
    "colab": {
     "base_uri": "https://localhost:8080/"
    },
    "id": "Gp90fXs1eipV",
    "outputId": "8d45d267-9a4c-4691-eb45-f28d1909a5b6"
   },
   "outputs": [
    {
     "data": {
      "text/plain": [
       "19"
      ]
     },
     "execution_count": 18,
     "metadata": {
      "tags": []
     },
     "output_type": "execute_result"
    }
   ],
   "source": [
    "df['dl_applied'].value_counts()[1]\n"
   ]
  },
  {
   "cell_type": "code",
   "execution_count": 19,
   "metadata": {
    "colab": {
     "base_uri": "https://localhost:8080/"
    },
    "id": "l_2uLGk2eipV",
    "outputId": "e2784464-08e2-4188-bf31-d4a68ed47150"
   },
   "outputs": [
    {
     "data": {
      "text/plain": [
       "season  winner                     \n",
       "2008    Rajasthan Royals               13\n",
       "        Kings XI Punjab                10\n",
       "        Chennai Super Kings             9\n",
       "        Delhi Daredevils                7\n",
       "        Mumbai Indians                  7\n",
       "                                       ..\n",
       "2019    Kings XI Punjab                 6\n",
       "        Kolkata Knight Riders           6\n",
       "        Sunrisers Hyderabad             6\n",
       "        Rajasthan Royals                5\n",
       "        Royal Challengers Bangalore     5\n",
       "Name: winner, Length: 100, dtype: int64"
      ]
     },
     "execution_count": 19,
     "metadata": {
      "tags": []
     },
     "output_type": "execute_result"
    }
   ],
   "source": [
    "# wins per season \n",
    "\n",
    "wins_per_season = df.groupby('season')['winner'].value_counts()\n",
    "wins_per_season"
   ]
  },
  {
   "cell_type": "code",
   "execution_count": 20,
   "metadata": {
    "colab": {
     "base_uri": "https://localhost:8080/"
    },
    "id": "gzgX02ZqeipW",
    "outputId": "d6c24b88-a7d4-4b28-8a7d-b81f41a481bc"
   },
   "outputs": [
    {
     "name": "stdout",
     "output_type": "stream",
     "text": [
      "((2008, 'Rajasthan Royals'), 13)\n",
      "((2009, 'Delhi Daredevils'), 10)\n",
      "((2010, 'Mumbai Indians'), 11)\n",
      "((2011, 'Chennai Super Kings'), 11)\n",
      "((2012, 'Kolkata Knight Riders'), 12)\n",
      "((2013, 'Mumbai Indians'), 13)\n",
      "((2014, 'Kings XI Punjab'), 11)\n",
      "((2015, 'Chennai Super Kings'), 10)\n",
      "((2016, 'Sunrisers Hyderabad'), 11)\n",
      "((2017, 'Mumbai Indians'), 12)\n",
      "((2018, 'Chennai Super Kings'), 11)\n",
      "((2019, 'Mumbai Indians'), 11)\n"
     ]
    }
   ],
   "source": [
    "year = 2008\n",
    "wins_per_season_df = pd.DataFrame(columns=['year', 'Team', 'Wins'])\n",
    "for items in wins_per_season.iteritems():    \n",
    "    if items[0][0]==year:\n",
    "        print(items)\n",
    "        win_series = pd.DataFrame({\n",
    "            'year': [items[0][0]],\n",
    "            'Team': [items[0][1]],\n",
    "            'Wins': [items[1]]\n",
    "        })\n",
    "        wins_per_season_df = wins_per_season_df.append(win_series)\n",
    "        year += 1   "
   ]
  },
  {
   "cell_type": "markdown",
   "metadata": {
    "id": "ODMD7ibMeipW"
   },
   "source": [
    "This gives us the most wins by teams for each season of IPL "
   ]
  },
  {
   "cell_type": "code",
   "execution_count": 21,
   "metadata": {
    "colab": {
     "base_uri": "https://localhost:8080/",
     "height": 462
    },
    "id": "6J3dgObFeipW",
    "outputId": "1ff9e73e-d547-4f03-e82c-1dcb591e2e1c"
   },
   "outputs": [
    {
     "name": "stderr",
     "output_type": "stream",
     "text": [
      "/usr/local/lib/python3.7/dist-packages/seaborn/_decorators.py:43: FutureWarning: Pass the following variables as keyword args: x, y. From version 0.12, the only valid positional argument will be `data`, and passing other arguments without an explicit keyword will result in an error or misinterpretation.\n",
      "  FutureWarning\n"
     ]
    },
    {
     "data": {
      "text/plain": [
       "<matplotlib.axes._subplots.AxesSubplot at 0x7fc78810c150>"
      ]
     },
     "execution_count": 21,
     "metadata": {
      "tags": []
     },
     "output_type": "execute_result"
    },
    {
     "data": {
      "image/png": "[encoded data removed]",
      "text/plain": [
       "<Figure size 864x432 with 1 Axes>"
      ]
     },
     "metadata": {
      "needs_background": "light",
      "tags": []
     },
     "output_type": "display_data"
    }
   ],
   "source": [
    "plt.figure(figsize=(12,6))\n",
    "plt.xticks(rotation=90)\n",
    "sns.barplot('Wins', 'Team', hue='year', data=wins_per_season_df, palette='Pastel1')"
   ]
  },
  {
   "cell_type": "markdown",
   "metadata": {
    "id": "WxqwB7p3eipX"
   },
   "source": [
    "From the bar plot we can see that Mumbai Indians has secured the most wins in 2010,2013,2017 and 2019"
   ]
  },
  {
   "cell_type": "markdown",
   "metadata": {
    "id": "Ni70mX4reipX"
   },
   "source": [
    "**Analysis based on Toss**"
   ]
  },
  {
   "cell_type": "code",
   "execution_count": 22,
   "metadata": {
    "colab": {
     "base_uri": "https://localhost:8080/"
    },
    "id": "mJ-0gueieipX",
    "outputId": "7856b43f-0d6b-4cac-c137-d55e89560b64"
   },
   "outputs": [
    {
     "data": {
      "text/plain": [
       "field    455\n",
       "bat      288\n",
       "Name: toss_decision, dtype: int64"
      ]
     },
     "execution_count": 22,
     "metadata": {
      "tags": []
     },
     "output_type": "execute_result"
    }
   ],
   "source": [
    "df['toss_decision'].value_counts()"
   ]
  },
  {
   "cell_type": "code",
   "execution_count": 23,
   "metadata": {
    "colab": {
     "base_uri": "https://localhost:8080/",
     "height": 309
    },
    "id": "FnROtlJNeipY",
    "outputId": "047bdf7b-ed73-43d3-dea0-789f55816e92"
   },
   "outputs": [
    {
     "data": {
      "text/plain": [
       "(array([0, 1]), <a list of 2 Text major ticklabel objects>)"
      ]
     },
     "execution_count": 23,
     "metadata": {
      "tags": []
     },
     "output_type": "execute_result"
    },
    {
     "data": {
      "image/png": "[encoded data removed]",
      "text/plain": [
       "<Figure size 432x288 with 1 Axes>"
      ]
     },
     "metadata": {
      "needs_background": "light",
      "tags": []
     },
     "output_type": "display_data"
    }
   ],
   "source": [
    "sns.countplot(x ='toss_decision', data = df ,color=(0.9, 0.2, 0.5, 0.2))\n",
    "plt.xticks(rotation = 90)"
   ]
  },
  {
   "cell_type": "markdown",
   "metadata": {
    "id": "qDfDeX1weipY"
   },
   "source": [
    "From the above result, we can say that teams prefer to field first. As it is T-20 many teams prefer to chase the targets."
   ]
  },
  {
   "cell_type": "code",
   "execution_count": 24,
   "metadata": {
    "id": "SM8pI8WkeipY"
   },
   "outputs": [],
   "source": [
    "# Cases where toss winners won the match\n",
    "toss_win_match = df[(df['toss_winner'] == df['winner'])]\n"
   ]
  },
  {
   "cell_type": "code",
   "execution_count": 25,
   "metadata": {
    "id": "A957cZyJeipY"
   },
   "outputs": [],
   "source": [
    "# Cases where toss winners lost the match\n",
    "toss_win_lose_match = df[(df['toss_winner'] != df['winner'])]"
   ]
  },
  {
   "cell_type": "code",
   "execution_count": 26,
   "metadata": {
    "id": "rJwWtn1FeipZ"
   },
   "outputs": [],
   "source": [
    "toss_df = pd.DataFrame({\"Team won the toss\":[ toss_win_match.shape[0],toss_win_lose_match.shape[0]  ]}, index = ['Match won', 'Match Lost']  )"
   ]
  },
  {
   "cell_type": "code",
   "execution_count": 27,
   "metadata": {
    "colab": {
     "base_uri": "https://localhost:8080/",
     "height": 342
    },
    "id": "iqK0SozLeipZ",
    "outputId": "37be588d-e0c5-426f-f28f-e2dae74efe62"
   },
   "outputs": [
    {
     "data": {
      "text/plain": [
       "<matplotlib.axes._subplots.AxesSubplot at 0x7fc787f32410>"
      ]
     },
     "execution_count": 27,
     "metadata": {
      "tags": []
     },
     "output_type": "execute_result"
    },
    {
     "data": {
      "image/png": "[encoded data removed]",
      "text/plain": [
       "<Figure size 432x288 with 1 Axes>"
      ]
     },
     "metadata": {
      "needs_background": "light",
      "tags": []
     },
     "output_type": "display_data"
    }
   ],
   "source": [
    "toss_df.plot( kind = 'bar' , legend = False , title = \"Number of time a team won the toss and the match result of that match\", color=(0.9, 0.2, 0.5, 0.2))"
   ]
  },
  {
   "cell_type": "markdown",
   "metadata": {
    "id": "lZRzah1neipZ"
   },
   "source": [
    "We can see that there is no significant effect of toss winners on winning mathches, but we can see that the matches won are slightly higher than those lost."
   ]
  },
  {
   "cell_type": "code",
   "execution_count": 28,
   "metadata": {
    "id": "YvwNx7dHeipa"
   },
   "outputs": [],
   "source": [
    "# Analysis based on the toss decision: bat or field\n",
    "\n",
    "batting_first_won = df.loc[(df['toss_winner'] == df['winner']) & (df['toss_decision'] == 'bat'), ['id', 'winner']]\n",
    "fielding_first_won = df.loc[(df['toss_winner'] == df['winner']) & (df['toss_decision'] == 'field'),  ['id', 'winner']]"
   ]
  },
  {
   "cell_type": "code",
   "execution_count": 29,
   "metadata": {
    "id": "O4VvVrDDeipa"
   },
   "outputs": [],
   "source": [
    "batting_first_won_df = batting_first_won['winner'].value_counts()\n",
    "fielding_first_won_df= fielding_first_won['winner'].value_counts()"
   ]
  },
  {
   "cell_type": "code",
   "execution_count": 30,
   "metadata": {
    "colab": {
     "base_uri": "https://localhost:8080/",
     "height": 432
    },
    "id": "kh7ksu2oeipb",
    "outputId": "8d1166cc-ac98-478a-948f-35912041ea8a"
   },
   "outputs": [
    {
     "data": {
      "text/plain": [
       "<matplotlib.axes._subplots.AxesSubplot at 0x7fc787ea7b90>"
      ]
     },
     "execution_count": 30,
     "metadata": {
      "tags": []
     },
     "output_type": "execute_result"
    },
    {
     "data": {
      "image/png": "[encoded data removed]",
      "text/plain": [
       "<Figure size 432x288 with 1 Axes>"
      ]
     },
     "metadata": {
      "needs_background": "light",
      "tags": []
     },
     "output_type": "display_data"
    }
   ],
   "source": [
    "batting_first_won_df.plot(kind = 'bar', title = 'Teams who won the toss, chose to bat and won the match',color=(0.9, 0.2, 0.5, 0.2))"
   ]
  },
  {
   "cell_type": "code",
   "execution_count": 31,
   "metadata": {
    "colab": {
     "base_uri": "https://localhost:8080/",
     "height": 432
    },
    "id": "cXyNEd08eipb",
    "outputId": "b1eae34e-0022-4a86-c31a-5db823b90f38"
   },
   "outputs": [
    {
     "data": {
      "text/plain": [
       "<matplotlib.axes._subplots.AxesSubplot at 0x7fc787ead190>"
      ]
     },
     "execution_count": 31,
     "metadata": {
      "tags": []
     },
     "output_type": "execute_result"
    },
    {
     "data": {
      "image/png": "[encoded data removed]",
      "text/plain": [
       "<Figure size 432x288 with 1 Axes>"
      ]
     },
     "metadata": {
      "needs_background": "light",
      "tags": []
     },
     "output_type": "display_data"
    }
   ],
   "source": [
    "fielding_first_won_df.plot(kind = 'bar', title = 'Teams who won the toss,chose to field and won the match', color=(0.9, 0.2, 0.5, 0.2))"
   ]
  },
  {
   "cell_type": "markdown",
   "metadata": {
    "id": "kZ4Aptfveipb"
   },
   "source": [
    "**Analysis based on Duckworth–Lewis method**"
   ]
  },
  {
   "cell_type": "code",
   "execution_count": 32,
   "metadata": {
    "id": "Zuhan9Y0eipc"
   },
   "outputs": [],
   "source": [
    "# Creating a new dataframe which holds records of matches where decision was made using the Duckworth–Lewis method\n",
    "\n",
    "dl_data = df.loc[df['dl_applied'] != 0, ['id','season','Month','team1','team2','toss_winner','toss_decision','result','dl_applied','winner','venue']]"
   ]
  },
  {
   "cell_type": "code",
   "execution_count": 33,
   "metadata": {
    "colab": {
     "base_uri": "https://localhost:8080/"
    },
    "id": "ghf3rG7Neipc",
    "outputId": "4f44903b-8348-4ca8-e653-43b95a1d8443"
   },
   "outputs": [
    {
     "data": {
      "text/plain": [
       "Eden Gardens                                           4\n",
       "M Chinnaswamy Stadium                                  3\n",
       "Feroz Shah Kotla                                       3\n",
       "Dr. Y.S. Rajasekhara Reddy ACA-VDCA Cricket Stadium    2\n",
       "Rajiv Gandhi International Stadium, Uppal              2\n",
       "SuperSport Park                                        1\n",
       "Sawai Mansingh Stadium                                 1\n",
       "Nehru Stadium                                          1\n",
       "Newlands                                               1\n",
       "Kingsmead                                              1\n",
       "Name: venue, dtype: int64"
      ]
     },
     "execution_count": 33,
     "metadata": {
      "tags": []
     },
     "output_type": "execute_result"
    }
   ],
   "source": [
    "dl_data['venue'].value_counts()"
   ]
  },
  {
   "cell_type": "markdown",
   "metadata": {
    "id": "5y80jJyieipc"
   },
   "source": [
    "We can see that the Duckworth–Lewis method was applied most in Eden Gardens which can mean that it rained the most in Kolkata"
   ]
  },
  {
   "cell_type": "code",
   "execution_count": 34,
   "metadata": {
    "colab": {
     "base_uri": "https://localhost:8080/"
    },
    "id": "XKAq-rUkeipd",
    "outputId": "ab975eb7-1e21-4cb4-9628-776917675e29"
   },
   "outputs": [
    {
     "data": {
      "text/plain": [
       "field    13\n",
       "bat       6\n",
       "Name: toss_decision, dtype: int64"
      ]
     },
     "execution_count": 34,
     "metadata": {
      "tags": []
     },
     "output_type": "execute_result"
    }
   ],
   "source": [
    "dl_data['toss_decision'].value_counts()"
   ]
  },
  {
   "cell_type": "code",
   "execution_count": 35,
   "metadata": {
    "colab": {
     "base_uri": "https://localhost:8080/",
     "height": 309
    },
    "id": "TYXyPVSpeipd",
    "outputId": "12285ed2-64b2-4c36-d194-54d50c5b3f42"
   },
   "outputs": [
    {
     "data": {
      "text/plain": [
       "(array([0, 1]), <a list of 2 Text major ticklabel objects>)"
      ]
     },
     "execution_count": 35,
     "metadata": {
      "tags": []
     },
     "output_type": "execute_result"
    },
    {
     "data": {
      "image/png": "[encoded data removed]",
      "text/plain": [
       "<Figure size 432x288 with 1 Axes>"
      ]
     },
     "metadata": {
      "needs_background": "light",
      "tags": []
     },
     "output_type": "display_data"
    }
   ],
   "source": [
    "sns.countplot(x ='toss_decision', data = dl_data ,color=(0.9, 0.2, 0.5, 0.2))\n",
    "plt.xticks(rotation = 90)"
   ]
  },
  {
   "cell_type": "markdown",
   "metadata": {
    "id": "bM-UOw88eipd"
   },
   "source": [
    "From the above result we can see that most teams chose to field on days when the Duckworth–Lewis method was applied to decide the winners. This could indicate that the captains must have had something in mind regarding the pitch, keeping in mind that it might rain on those days "
   ]
  },
  {
   "cell_type": "code",
   "execution_count": 36,
   "metadata": {
    "colab": {
     "base_uri": "https://localhost:8080/"
    },
    "id": "3owlIJGZeipd",
    "outputId": "0f94541e-cfe7-4cf6-da87-d564d4096f3b"
   },
   "outputs": [
    {
     "data": {
      "text/plain": [
       "toss_decision  winner                     \n",
       "bat            Chennai Super Kings            2\n",
       "               Kolkata Knight Riders          2\n",
       "               Kings XI Punjab                1\n",
       "               Royal Challengers Bangalore    1\n",
       "field          Delhi Daredevils               2\n",
       "               Kolkata Knight Riders          2\n",
       "               Rising Pune Supergiant         2\n",
       "               Royal Challengers Bangalore    2\n",
       "               Sunrisers Hyderabad            2\n",
       "               Kings XI Punjab                1\n",
       "               Kochi Tuskers Kerala           1\n",
       "               Rajasthan Royals               1\n",
       "Name: winner, dtype: int64"
      ]
     },
     "execution_count": 36,
     "metadata": {
      "tags": []
     },
     "output_type": "execute_result"
    }
   ],
   "source": [
    "dl_wins = dl_data.groupby(by = 'toss_decision')['winner'].value_counts()\n",
    "dl_wins"
   ]
  },
  {
   "cell_type": "markdown",
   "metadata": {
    "id": "d8un5UZQeipe"
   },
   "source": [
    "It is evident from the result above that more matches were won by the  Duckworth–Lewis method when the toss decision was to field first"
   ]
  },
  {
   "cell_type": "markdown",
   "metadata": {
    "id": "RCekA5M-eipe"
   },
   "source": [
    "**Analysis based on Player of the match**"
   ]
  },
  {
   "cell_type": "code",
   "execution_count": 37,
   "metadata": {
    "colab": {
     "base_uri": "https://localhost:8080/"
    },
    "id": "pngdtVdYeipe",
    "outputId": "1911cc4d-0f66-4e02-dd10-e8a979eea08a"
   },
   "outputs": [
    {
     "data": {
      "text/plain": [
       "CH Gayle          21\n",
       "AB de Villiers    20\n",
       "RG Sharma         17\n",
       "DA Warner         17\n",
       "MS Dhoni          17\n",
       "Name: player_of_match, dtype: int64"
      ]
     },
     "execution_count": 37,
     "metadata": {
      "tags": []
     },
     "output_type": "execute_result"
    }
   ],
   "source": [
    "players = df.player_of_match.value_counts()\n",
    "players.head()"
   ]
  },
  {
   "cell_type": "code",
   "execution_count": 38,
   "metadata": {
    "colab": {
     "base_uri": "https://localhost:8080/",
     "height": 354
    },
    "id": "0bOixN77eipf",
    "outputId": "cf15323d-1af0-4fa3-aaa9-33c4942a3bf7"
   },
   "outputs": [
    {
     "data": {
      "text/plain": [
       "<matplotlib.axes._subplots.AxesSubplot at 0x7fc787cdf590>"
      ]
     },
     "execution_count": 38,
     "metadata": {
      "tags": []
     },
     "output_type": "execute_result"
    },
    {
     "data": {
      "image/png": "[encoded data removed]",
      "text/plain": [
       "<Figure size 432x288 with 1 Axes>"
      ]
     },
     "metadata": {
      "needs_background": "light",
      "tags": []
     },
     "output_type": "display_data"
    }
   ],
   "source": [
    "players[players >= 10 ].plot(kind = 'bar', title = 'Number of times a player got Man of the Match',color=(0.9, 0.2, 0.5, 0.2))"
   ]
  },
  {
   "cell_type": "markdown",
   "metadata": {
    "id": "NWWXGTTleipf"
   },
   "source": [
    "The above results show us that Chris Gayle and AB de Villiers are the players who were awarded player of the match most. This could mean that teams should try to invest on some of these players during the auction."
   ]
  },
  {
   "cell_type": "markdown",
   "metadata": {
    "id": "PKQtfMtieipf"
   },
   "source": [
    "**Conclusion**\n",
    "\n",
    "<p> Hence we can draw these conclusions: </p>\n",
    "<ul>\n",
    "    <li> Mumbai has hosted the maximum number of IPL matches </li>\n",
    "    <li> Mumbai Indians is the most successful team of ipl since it has secured the most number of wins on the past 12 years         </li>\n",
    "    <li> Teams prefer to field first. As it is T-20 many teams prefer to chase the targets. </li>\n",
    "    <li> There is no significant effect of toss winners on winning mathches </li>\n",
    "    <li> The Duckworth–Lewis method was applied most in Eden Gardens</li>\n",
    "    <li> Chris Gayle and AB de Villiers are important players and teams should invest in them for advertisements and also for            the benefit of the team. </li>\n",
    "</ul>\n",
    "\n",
    "##**Task 5 Completed !**"
   ]
  }
 ],
 "metadata": {
  "colab": {
   "name": "Task 5_Exploratory_Data_Analysis_Sports.ipynb",
   "provenance": []
  },
  "kernelspec": {
   "display_name": "Python 3",
   "language": "python",
   "name": "python3"
  },
  "language_info": {
   "codemirror_mode": {
    "name": "ipython",
    "version": 3
   },
   "file_extension": ".py",
   "mimetype": "text/x-python",
   "name": "python",
   "nbconvert_exporter": "python",
   "pygments_lexer": "ipython3",
   "version": "3.7.6"
  }
 },
 "nbformat": 4,
 "nbformat_minor": 1
}
